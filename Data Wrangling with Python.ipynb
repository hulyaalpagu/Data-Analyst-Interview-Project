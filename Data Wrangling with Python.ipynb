{
 "cells": [
  {
   "cell_type": "markdown",
   "id": "985b865f",
   "metadata": {},
   "source": [
    "Data Analysis Assessment 2025\n",
    "Candidate: Hulya Alpagu\n",
    "Email: hulyalpagu@gmail.com\n",
    "Phone: + 1 (862) 2977302"
   ]
  },
  {
   "cell_type": "markdown",
   "id": "fa82befd",
   "metadata": {},
   "source": [
    "# Data Cleaning, Preparation and Export for Power BI Visualization"
   ]
  },
  {
   "cell_type": "markdown",
   "id": "5afd7aea",
   "metadata": {},
   "source": [
    "This notebook demonstrates the data cleaning and preparation process I applied to the dataset provided. The goal was to ensure the data was accurate, consistent, and ready for analysis. After completing the cleaning steps in Python, I exported the final dataset to Power BI to create interactive visualizations and uncover meaningful insights for decision-making. "
   ]
  },
  {
   "cell_type": "markdown",
   "id": "02e902b8",
   "metadata": {},
   "source": [
    "# Load the Dataset"
   ]
  },
  {
   "cell_type": "code",
   "execution_count": 149,
   "id": "b5f21213",
   "metadata": {},
   "outputs": [],
   "source": [
    "import pandas as pd\n",
    "\n",
    "# Load Excel file\n",
    "file_path = 'Data Analyst Assessment 2025.xlsx'\n",
    "xls = pd.ExcelFile(file_path)\n",
    "\n",
    "# Load individual sheets\n",
    "student_df = pd.read_excel(xls, sheet_name='student_table')\n",
    "asset_df = pd.read_excel(xls, sheet_name='asset_table')\n",
    "event_df = pd.read_excel(xls, sheet_name='event_table')\n",
    "performance_df = pd.read_excel(xls, sheet_name='performance_table')"
   ]
  },
  {
   "cell_type": "markdown",
   "id": "ac8f9bab",
   "metadata": {},
   "source": [
    "# Check Dataset Shapes"
   ]
  },
  {
   "cell_type": "code",
   "execution_count": 151,
   "id": "5e581820",
   "metadata": {},
   "outputs": [
    {
     "name": "stdout",
     "output_type": "stream",
     "text": [
      "DataFrame shapes:\n",
      "Student Table: (1000, 7)\n",
      "Asset Table Types: (80503, 4)\n",
      "Event Table Types: (80503, 4)\n",
      "Performance Table: (11539, 5)\n"
     ]
    }
   ],
   "source": [
    "print(\"DataFrame shapes:\")\n",
    "print(\"Student Table:\",student_df.shape)\n",
    "print(\"Asset Table Types:\",asset_df.shape)\n",
    "print(\"Event Table Types:\",event_df.shape)\n",
    "print(\"Performance Table:\",performance_df.shape)"
   ]
  },
  {
   "cell_type": "markdown",
   "id": "ff3fcc67",
   "metadata": {},
   "source": [
    "# Missing Value Check"
   ]
  },
  {
   "cell_type": "code",
   "execution_count": 152,
   "id": "0ef433a5",
   "metadata": {},
   "outputs": [
    {
     "name": "stdout",
     "output_type": "stream",
     "text": [
      "Missing values:\n",
      "student_id                   0\n",
      "final_grade                  0\n",
      "total_time_spent             0\n",
      "total_resources_completed    0\n",
      "mastery_level                0\n",
      "badges_earned                0\n",
      "dropout_flag                 0\n",
      "dtype: int64\n",
      "student_id       0\n",
      "timestamp        0\n",
      "resource_type    0\n",
      "resource_id      0\n",
      "dtype: int64\n",
      "student_id            0\n",
      "resource_id           0\n",
      "action_type           0\n",
      "time_spent_seconds    0\n",
      "dtype: int64\n",
      "student_id       0\n",
      "resource_type    0\n",
      "resource_id      0\n",
      "score            0\n",
      "difficulty       0\n",
      "dtype: int64\n"
     ]
    }
   ],
   "source": [
    "# Check for missing values\n",
    "print(\"Missing values:\")\n",
    "print(student_df.isnull().sum())\n",
    "print(asset_df.isnull().sum())\n",
    "print(event_df.isnull().sum())\n",
    "print(performance_df.isnull().sum())"
   ]
  },
  {
   "cell_type": "markdown",
   "id": "7c0d8be2",
   "metadata": {},
   "source": [
    "# Duplicate Check and Removal"
   ]
  },
  {
   "cell_type": "code",
   "execution_count": 153,
   "id": "84ab9650",
   "metadata": {},
   "outputs": [
    {
     "name": "stdout",
     "output_type": "stream",
     "text": [
      "Student Table Duplicates: 0\n",
      "Asset Table Duplicates: 1\n",
      "Event Table Duplicates: 46\n",
      "Performance Table Duplicates: 1\n"
     ]
    }
   ],
   "source": [
    "#Check Dublicate\n",
    "print(f\"Student Table Duplicates: {student_df.duplicated().sum()}\")\n",
    "print(f\"Asset Table Duplicates: {asset_df.duplicated().sum()}\")\n",
    "print(f\"Event Table Duplicates: {event_df.duplicated().sum()}\")\n",
    "print(f\"Performance Table Duplicates: {performance_df.duplicated().sum()}\")"
   ]
  },
  {
   "cell_type": "code",
   "execution_count": 154,
   "id": "f2321ea4",
   "metadata": {},
   "outputs": [
    {
     "name": "stdout",
     "output_type": "stream",
     "text": [
      "\n",
      " Asset Table Duplicates:\n",
      "       student_id           timestamp resource_type resource_id\n",
      "36392         456 2025-01-07 05:27:00        survey  survey_386\n",
      "\n",
      " Event Table Duplicates:\n",
      "       student_id     resource_id action_type  time_spent_seconds\n",
      "4771           63     reading_224      viewed                  92\n",
      "5912           74  assignment_119   submitted                   5\n",
      "6135           74  assignment_253   submitted                   5\n",
      "6239           74     reading_168      viewed                   5\n",
      "6365           74        quiz_281   submitted                   5\n",
      "6481           74         quiz_63   submitted                  14\n",
      "6521           74       video_472      viewed                  49\n",
      "34404         440       survey_48   submitted                   5\n",
      "34442         440       forum_491      posted                   5\n",
      "34473         440  assignment_433   submitted                   5\n",
      "34474         440     reading_399      viewed                   5\n",
      "34526         440       forum_329      posted                   5\n",
      "34675         440        quiz_190   submitted                   5\n",
      "34700         440        game_358      played                   5\n",
      "34795         440   assignment_89   submitted                   5\n",
      "35179         440         quiz_41   submitted                  10\n",
      "35195         440        game_345      played                   5\n",
      "35270         440       video_259      viewed                   5\n",
      "35278         440         game_69      played                   5\n",
      "62580         799       video_310      viewed                   5\n",
      "62938         799      survey_444   submitted                   5\n",
      "62945         799         quiz_88   submitted                   5\n",
      "62990         799        quiz_136   submitted                   5\n",
      "63003         799          game_8      played                   5\n",
      "63143         799       video_104      viewed                   5\n",
      "67437         849       forum_447      posted                   5\n",
      "67449         849       forum_141      posted                   9\n",
      "67501         849       forum_104      posted                   5\n",
      "67787         849        quiz_148   submitted                   5\n",
      "67890         849      survey_373   submitted                  43\n",
      "67909         849       forum_131      posted                  11\n",
      "68018         849       survey_66   submitted                   5\n",
      "68035         849        quiz_198   submitted                   5\n",
      "68120         849        quiz_135   submitted                  17\n",
      "68151         849     reading_258      viewed                   5\n",
      "68191         849        game_285      played                   5\n",
      "68257         849       forum_104      posted                   5\n",
      "72106         897       video_298      viewed                   5\n",
      "72423         897        game_414      played                  13\n",
      "72721         897        game_484      played                   5\n",
      "72818         897     reading_404      viewed                   5\n",
      "72845         897       forum_468      posted                   8\n",
      "72851         897  assignment_274   submitted                  27\n",
      "72853         897        game_334      played                   5\n",
      "72885         897  assignment_432   submitted                   5\n",
      "72916         897        quiz_258   submitted                   6\n",
      "\n",
      " Performance Table Duplicates:\n",
      "      student_id resource_type resource_id  score  difficulty\n",
      "8781         787          quiz    quiz_103     30           1\n"
     ]
    }
   ],
   "source": [
    "#which data dublicate\n",
    "print(\"\\n Asset Table Duplicates:\")\n",
    "print(asset_df[asset_df.duplicated()])\n",
    "\n",
    "print(\"\\n Event Table Duplicates:\")\n",
    "print(event_df[event_df.duplicated()])\n",
    "\n",
    "print(\"\\n Performance Table Duplicates:\")\n",
    "print(performance_df[performance_df.duplicated()])\n"
   ]
  },
  {
   "cell_type": "code",
   "execution_count": 155,
   "id": "dee411dd",
   "metadata": {},
   "outputs": [],
   "source": [
    "# Remove duplicates\n",
    "asset_df = asset_df.drop_duplicates()\n",
    "event_df = event_df.drop_duplicates()\n",
    "performance_df = performance_df.drop_duplicates()"
   ]
  },
  {
   "cell_type": "markdown",
   "id": "0330137a",
   "metadata": {},
   "source": [
    "# Check Dataset Shapes After Duplicate Removal"
   ]
  },
  {
   "cell_type": "code",
   "execution_count": 156,
   "id": "2af2c6a2",
   "metadata": {},
   "outputs": [
    {
     "name": "stdout",
     "output_type": "stream",
     "text": [
      "Cleaned DataFrame shapes:\n",
      "Student Table: (1000, 7)\n",
      "Asset Table Types: (80502, 4)\n",
      "Event Table Types: (80457, 4)\n",
      "Performance Table: (11538, 5)\n"
     ]
    }
   ],
   "source": [
    "print(\"Cleaned DataFrame shapes:\")\n",
    "print(\"Student Table:\",student_df.shape)\n",
    "print(\"Asset Table Types:\",asset_df.shape)\n",
    "print(\"Event Table Types:\",event_df.shape)\n",
    "print(\"Performance Table:\",performance_df.shape)"
   ]
  },
  {
   "cell_type": "markdown",
   "id": "aa557d62",
   "metadata": {},
   "source": [
    "# Data Type Inspection"
   ]
  },
  {
   "cell_type": "code",
   "execution_count": 158,
   "id": "c3d1cedc",
   "metadata": {},
   "outputs": [
    {
     "name": "stdout",
     "output_type": "stream",
     "text": [
      "Student Table Types:\n",
      " student_id                     int64\n",
      "final_grade                  float64\n",
      "total_time_spent               int64\n",
      "total_resources_completed      int64\n",
      "mastery_level                 object\n",
      "badges_earned                  int64\n",
      "dropout_flag                   int64\n",
      "dtype: object\n",
      "\n",
      "Asset Table Types:\n",
      " student_id                int64\n",
      "timestamp        datetime64[ns]\n",
      "resource_type            object\n",
      "resource_id              object\n",
      "dtype: object\n",
      "\n",
      "Event Table Types:\n",
      " student_id             int64\n",
      "resource_id           object\n",
      "action_type           object\n",
      "time_spent_seconds     int64\n",
      "dtype: object\n",
      "\n",
      "Performance Table Types:\n",
      " student_id        int64\n",
      "resource_type    object\n",
      "resource_id      object\n",
      "score             int64\n",
      "difficulty        int64\n",
      "dtype: object\n"
     ]
    }
   ],
   "source": [
    "#3.\tCheck Data Types\n",
    "print(\"Student Table Types:\\n\", student_df.dtypes)\n",
    "print(\"\\nAsset Table Types:\\n\", asset_df.dtypes)\n",
    "print(\"\\nEvent Table Types:\\n\", event_df.dtypes)\n",
    "print(\"\\nPerformance Table Types:\\n\", performance_df.dtypes)"
   ]
  },
  {
   "cell_type": "markdown",
   "id": "3326cee5",
   "metadata": {},
   "source": [
    "# Feature Reduction"
   ]
  },
  {
   "cell_type": "code",
   "execution_count": 84,
   "id": "630ae995",
   "metadata": {},
   "outputs": [
    {
     "name": "stdout",
     "output_type": "stream",
     "text": [
      "resource_type column of asset_df: ['reading' 'survey' 'video' 'game' 'quiz' 'forum' 'assignment']\n",
      "resource_type column of performance_df: ['quiz']\n"
     ]
    }
   ],
   "source": [
    "# Show unique values in 'resource_type' column for both asset_table and performance_table\n",
    "unique_asset_types = asset_df['resource_type'].unique()\n",
    "print(\"resource_type column of asset_df:\", unique_asset_types)\n",
    "\n",
    "unique_performance_types = performance_df['resource_type'].unique()\n",
    "print(\"resource_type column of performance_df:\", unique_performance_types)\n"
   ]
  },
  {
   "cell_type": "code",
   "execution_count": 85,
   "id": "ef858479",
   "metadata": {},
   "outputs": [
    {
     "name": "stdout",
     "output_type": "stream",
     "text": [
      "Index(['student_id', 'resource_id', 'score', 'difficulty'], dtype='object')\n"
     ]
    }
   ],
   "source": [
    "# Drop 'resource_type' column from performance_df\n",
    "performance_df.drop(columns=['resource_type'], inplace=True)\n",
    "print(performance_df.columns)  # Confirm the column is removed"
   ]
  },
  {
   "cell_type": "markdown",
   "id": "7c4327af",
   "metadata": {},
   "source": [
    "# Normalization Values"
   ]
  },
  {
   "cell_type": "code",
   "execution_count": 87,
   "id": "97635924",
   "metadata": {},
   "outputs": [
    {
     "name": "stdout",
     "output_type": "stream",
     "text": [
      "resource_type column of asset_df: [0 1]\n"
     ]
    }
   ],
   "source": [
    "# Show unique values in 'dropout_flag' column from student_table\n",
    "unique_asset_types = student_df['dropout_flag'].unique()\n",
    "print(\"resource_type column of asset_df:\", unique_asset_types)"
   ]
  },
  {
   "cell_type": "code",
   "execution_count": 88,
   "id": "d32cc7b9",
   "metadata": {},
   "outputs": [
    {
     "name": "stdout",
     "output_type": "stream",
     "text": [
      "resource_type column of asset_df: ['Active Student' 'Dropped Out Student']\n"
     ]
    }
   ],
   "source": [
    "# Convert dropout_flag to descriptive labels in student_df\n",
    "student_df['dropout_flag'] = student_df['dropout_flag'].map({\n",
    "    0: 'Active Student',\n",
    "    1: 'Dropped Out Student'\n",
    "})\n",
    "\n",
    "# Show unique values after converting dropout_flag in student_table\n",
    "unique_asset_types = student_df['dropout_flag'].unique()\n",
    "print(\"resource_type column of asset_df:\", unique_asset_types)"
   ]
  },
  {
   "cell_type": "markdown",
   "id": "e824b23f",
   "metadata": {},
   "source": [
    "# Merging the Tables"
   ]
  },
  {
   "cell_type": "code",
   "execution_count": 92,
   "id": "e904c54e",
   "metadata": {},
   "outputs": [
    {
     "name": "stdout",
     "output_type": "stream",
     "text": [
      "\n",
      "Final dataset shape: (85297, 14)\n",
      "\n",
      "Dataset Info\n",
      "<class 'pandas.core.frame.DataFrame'>\n",
      "Int64Index: 85297 entries, 0 to 85296\n",
      "Data columns (total 14 columns):\n",
      " #   Column                     Non-Null Count  Dtype         \n",
      "---  ------                     --------------  -----         \n",
      " 0   student_id                 85297 non-null  int64         \n",
      " 1   resource_id                85297 non-null  object        \n",
      " 2   action_type                85297 non-null  object        \n",
      " 3   time_spent_seconds         85297 non-null  int64         \n",
      " 4   timestamp                  85297 non-null  datetime64[ns]\n",
      " 5   resource_type              85297 non-null  object        \n",
      " 6   score                      13176 non-null  float64       \n",
      " 7   difficulty                 13176 non-null  float64       \n",
      " 8   final_grade                85297 non-null  float64       \n",
      " 9   total_time_spent           85297 non-null  int64         \n",
      " 10  total_resources_completed  85297 non-null  int64         \n",
      " 11  mastery_level              85297 non-null  object        \n",
      " 12  badges_earned              85297 non-null  int64         \n",
      " 13  dropout_flag               85297 non-null  object        \n",
      "dtypes: datetime64[ns](1), float64(3), int64(5), object(5)\n",
      "memory usage: 9.8+ MB\n"
     ]
    }
   ],
   "source": [
    "#MERGE THE TABLES\n",
    "# Step 1: Merge event_table with asset_table on student_id and resource_id\n",
    "event_asset_df = pd.merge(event_df, asset_df, on=['student_id', 'resource_id'], how='left')\n",
    "\n",
    "# Step 2: Merge with performance_table on student_id and resource_id\n",
    "event_asset_perf_df = pd.merge(event_asset_df, performance_df, on=['student_id', 'resource_id'], how='left')\n",
    "\n",
    "# Step 3: Merge with student_table on student_id\n",
    "final_df = pd.merge(event_asset_perf_df, student_df, on='student_id', how='left')\n",
    "\n",
    "# Show the final dataframe shape and preview\n",
    "print(\"\\nFinal dataset shape:\", final_df.shape)\n",
    "print(\"\\nDataset Info\")\n",
    "final_df.info()\n",
    "\n"
   ]
  },
  {
   "cell_type": "markdown",
   "id": "d1b72352",
   "metadata": {},
   "source": [
    "# Summary Analysis "
   ]
  },
  {
   "cell_type": "code",
   "execution_count": 142,
   "id": "a166c4d7",
   "metadata": {},
   "outputs": [
    {
     "name": "stdout",
     "output_type": "stream",
     "text": [
      "Summary Statistics:\n",
      "          student_id  time_spent_seconds         score    difficulty  \\\n",
      "count  85297.000000        85297.000000  13176.000000  13176.000000   \n",
      "mean     511.666331          274.558015     50.431466      2.994460   \n",
      "std      292.617853          298.834275     29.153510      1.400314   \n",
      "min        1.000000            5.000000      0.000000      1.000000   \n",
      "25%      259.000000           59.000000     25.000000      2.000000   \n",
      "50%      512.000000          177.000000     51.000000      3.000000   \n",
      "75%      789.000000          387.000000     76.000000      4.000000   \n",
      "max     1000.000000         3553.000000    100.000000      5.000000   \n",
      "\n",
      "        final_grade  total_time_spent  total_resources_completed  \\\n",
      "count  85297.000000      85297.000000               85297.000000   \n",
      "mean      71.001415      24753.199456                 108.513910   \n",
      "std       20.319274       6077.158150                 192.026428   \n",
      "min       11.630000      11753.000000                  22.000000   \n",
      "25%       58.830000      20215.000000                  38.000000   \n",
      "50%       72.970000      24343.000000                  46.000000   \n",
      "75%       87.240000      28698.000000                  54.000000   \n",
      "max       99.970000      39286.000000                 757.000000   \n",
      "\n",
      "       badges_earned  \n",
      "count   85297.000000  \n",
      "mean        4.990058  \n",
      "std         3.213492  \n",
      "min         0.000000  \n",
      "25%         2.000000  \n",
      "50%         5.000000  \n",
      "75%         8.000000  \n",
      "max        10.000000  \n"
     ]
    }
   ],
   "source": [
    "# 1. Summary statistics of all numeric columns\n",
    "summary_stats = final_df.describe()\n",
    "print(\"Summary Statistics:\\n\", summary_stats)\n"
   ]
  },
  {
   "cell_type": "markdown",
   "id": "419e8465",
   "metadata": {},
   "source": [
    "# Exporting the Dataset to Power BI"
   ]
  },
  {
   "cell_type": "code",
   "execution_count": 94,
   "id": "ed4f3145",
   "metadata": {},
   "outputs": [],
   "source": [
    "# Export to CSV for Power BI\n",
    "final_df.to_csv(\"final_cleaned_dataset.csv\", index=False)"
   ]
  }
 ],
 "metadata": {
  "kernelspec": {
   "display_name": "Python 3 (ipykernel)",
   "language": "python",
   "name": "python3"
  },
  "language_info": {
   "codemirror_mode": {
    "name": "ipython",
    "version": 3
   },
   "file_extension": ".py",
   "mimetype": "text/x-python",
   "name": "python",
   "nbconvert_exporter": "python",
   "pygments_lexer": "ipython3",
   "version": "3.9.7"
  }
 },
 "nbformat": 4,
 "nbformat_minor": 5
}
